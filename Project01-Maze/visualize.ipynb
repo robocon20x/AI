{
  "cells": [
    {
      "cell_type": "markdown",
      "metadata": {
        "id": "DnOLkLhiPK27"
      },
      "source": [
        "## Demo vẽ bản đồ - đồ án môn cơ sở trí tuệ nhân tạo - ĐH KHTN TPHCM\n",
        "Trợ giảng: \n",
        "- Nguyễn Khánh Toàn - ktoan271199@gmail.com\n",
        "- Lê Minh Nhật - minhnhatvt2@gmail.com"
      ]
    },
    {
      "cell_type": "markdown",
      "metadata": {
        "id": "Fi9BxHocbeQX"
      },
      "source": [
        "## Các hàm bổ trợ"
      ]
    },
    {
      "cell_type": "code",
      "execution_count": 157,
      "metadata": {
        "id": "YbO4E7PTforI"
      },
      "outputs": [],
      "source": [
        "import os\n",
        "import matplotlib.pyplot as plt\n",
        "from math import sqrt\n",
        "import pandas as pd\n",
        "import dfs\n",
        "import bfs\n",
        "import gbfs\n",
        "import astar\n",
        "import gbfs_bonus\n",
        "import astar_bonus\n",
        "import heuristic as hx"
      ]
    },
    {
      "cell_type": "code",
      "execution_count": 158,
      "metadata": {
        "id": "u5ZHJ1oq8Ucm"
      },
      "outputs": [],
      "source": [
        "def visualize_maze(matrix, bonus, start, end, route=None):\n",
        "    \"\"\"\n",
        "    Args:\n",
        "      1. matrix: The matrix read from the input file,\n",
        "      2. bonus: The array of bonus points,\n",
        "      3. start, end: The starting and ending points,\n",
        "      4. route: The route from the starting point to the ending one, defined by an array of (x, y), e.g. route = [(1, 2), (1, 3), (1, 4)]\n",
        "    \"\"\"\n",
        "    #1. Define walls and array of direction based on the route\n",
        "    walls=[(i,j) for i in range(len(matrix)) for j in range(len(matrix[0])) if matrix[i][j]=='x']\n",
        "\n",
        "    if route:\n",
        "        direction=[]\n",
        "        for i in range(1,len(route)):\n",
        "            if route[i][0]-route[i-1][0]>0:\n",
        "                direction.append('v') #^\n",
        "            elif route[i][0]-route[i-1][0]<0:\n",
        "                direction.append('^') #v        \n",
        "            elif route[i][1]-route[i-1][1]>0:\n",
        "                direction.append('>')\n",
        "            # elif route[i][1]-route[i-1][1]<0:\n",
        "            else:\n",
        "                direction.append('<')\n",
        "            # else:\n",
        "            #     direction.append(' ')\n",
        "\n",
        "        direction.pop(0)\n",
        "\n",
        "    #2. Drawing the map\n",
        "    ax=plt.figure(dpi=100).add_subplot(111)\n",
        "    \n",
        "    for i in ['top','bottom','right','left']:\n",
        "        ax.spines[i].set_visible(False)\n",
        "    plt.scatter([i[1] for i in walls],[-i[0] for i in walls],\n",
        "                marker='X',s=100,color='black')\n",
        "    \n",
        "    plt.scatter([i[1] for i in bonus],[-i[0] for i in bonus],\n",
        "                marker='P',s=100,color='green')\n",
        "\n",
        "    plt.scatter(start[1],-start[0],marker='*',\n",
        "                s=100,color='gold')\n",
        "\n",
        "    if route:\n",
        "        for i in range(len(route)-2):\n",
        "            plt.scatter(route[i+1][1],-route[i+1][0],\n",
        "                        marker=direction[i],color='blue')\n",
        "\n",
        "    plt.text(end[1],-end[0],'EXIT',color='red',\n",
        "         horizontalalignment='center',\n",
        "         verticalalignment='center')\n",
        "    plt.xticks([])\n",
        "    plt.yticks([])\n",
        "    plt.show()\n",
        "\n",
        "    print(f'Starting point (x, y) = {start[0], start[1]}')\n",
        "    print(f'Ending point (x, y) = {end[0], end[1]}')\n",
        "    \n",
        "    for _, point in enumerate(bonus):\n",
        "      print(f'Bonus point at position (x, y) = {point[0], point[1]} with point {point[2]}')"
      ]
    },
    {
      "cell_type": "code",
      "execution_count": 159,
      "metadata": {
        "id": "yiy6K_hAgcF_"
      },
      "outputs": [],
      "source": [
        "def read_file(file_name: str = 'maze.txt'):\n",
        "  f=open(file_name,'r')\n",
        "  n_bonus_points = int(next(f)[:-1])\n",
        "  bonus_points = []\n",
        "  for i in range(n_bonus_points):\n",
        "    x, y, reward = map(int, next(f)[:-1].split(' '))\n",
        "    bonus_points.append((x, y, reward))\n",
        "\n",
        "  text=f.read()\n",
        "  matrix=[list(i) for i in text.splitlines()]\n",
        "  f.close()\n",
        "\n",
        "  return bonus_points, matrix"
      ]
    },
    {
      "cell_type": "markdown",
      "metadata": {
        "id": "49cRN0suaMRO"
      },
      "source": [
        "### Đọc file và vẽ bản đồ\n",
        "- Để đổi map, thay tên của map bằng các số từ 1 đến 5:\n",
        "- VD: `maze_map1.txt` , `maze_map2.txt`\n",
        "- Với các map có điểm thưởng tên sẽ là `maze_map_bonus1.txt`, thay các số từ 1 tới 3 tương ứng với bản đồ có 2,5,10 điểm thưởng"
      ]
    },
    {
      "cell_type": "code",
      "execution_count": 160,
      "metadata": {
        "id": "NGGqpmp_Wc8g"
      },
      "outputs": [],
      "source": [
        "# bonus_points, matrix = read_file('./map/maze_map5.txt')\n",
        "bonus_points, matrix = read_file('./map/maze_map_bonus1.txt')"
      ]
    },
    {
      "cell_type": "code",
      "execution_count": 161,
      "metadata": {
        "colab": {
          "base_uri": "https://localhost:8080/"
        },
        "id": "HCwjgf-VBx4o",
        "outputId": "f84e2b24-5223-42cc-9759-1f2e16545b1b"
      },
      "outputs": [
        {
          "name": "stdout",
          "output_type": "stream",
          "text": [
            "The height of the matrix: 11\n",
            "The width of the matrix: 22\n"
          ]
        }
      ],
      "source": [
        "print(f'The height of the matrix: {len(matrix)}')\n",
        "print(f'The width of the matrix: {len(matrix[0])}')"
      ]
    },
    {
      "cell_type": "code",
      "execution_count": 162,
      "metadata": {
        "id": "UF3xiEwncYgX"
      },
      "outputs": [],
      "source": [
        "for i in range(len(matrix)):\n",
        "    for j in range(len(matrix[0])):\n",
        "        if matrix[i][j]=='S':\n",
        "            start=(i,j)\n",
        "\n",
        "        elif matrix[i][j]==' ':\n",
        "            if (i==0) or (i==len(matrix)-1) or (j==0) or (j==len(matrix[0])-1):\n",
        "                end=(i,j)\n",
        "                \n",
        "        else:\n",
        "            pass"
      ]
    },
    {
      "cell_type": "markdown",
      "metadata": {},
      "source": [
        "### Đặt cờ flag để thay đổi heuristic: ( từ 1 đến 4)"
      ]
    },
    {
      "cell_type": "code",
      "execution_count": 163,
      "metadata": {},
      "outputs": [],
      "source": [
        "flag = 2"
      ]
    },
    {
      "cell_type": "markdown",
      "metadata": {},
      "source": [
        "### I. Tìm kiếm không có thông tin"
      ]
    },
    {
      "cell_type": "markdown",
      "metadata": {},
      "source": [
        "#### 1. Dùng Depth First Search (DFS) để tìm đường đi   "
      ]
    },
    {
      "cell_type": "code",
      "execution_count": 164,
      "metadata": {},
      "outputs": [],
      "source": [
        "route1,travel1 = dfs.dfs(start,end,matrix)"
      ]
    },
    {
      "cell_type": "code",
      "execution_count": 165,
      "metadata": {},
      "outputs": [
        {
          "name": "stdout",
          "output_type": "stream",
          "text": [
            "Chi phi duong di:  34\n",
            "So o da duyet:  57\n"
          ]
        },
        {
          "data": {
            "image/png": "[encoded data removed]",
            "text/plain": [
              "<Figure size 600x400 with 1 Axes>"
            ]
          },
          "metadata": {},
          "output_type": "display_data"
        },
        {
          "name": "stdout",
          "output_type": "stream",
          "text": [
            "Starting point (x, y) = (8, 15)\n",
            "Ending point (x, y) = (4, 0)\n",
            "Bonus point at position (x, y) = (3, 6) with point -8\n",
            "Bonus point at position (x, y) = (5, 14) with point -2\n",
            "None\n"
          ]
        }
      ],
      "source": [
        "print('Chi phi duong di: ', len(route1))\n",
        "print('So o da duyet: ',travel1)\n",
        "print(visualize_maze(matrix,bonus_points,start,end,route1))\n"
      ]
    },
    {
      "cell_type": "markdown",
      "metadata": {},
      "source": [
        "#### 2. Dùng Breadth First Search (BFS) để tìm đường đi"
      ]
    },
    {
      "cell_type": "code",
      "execution_count": 166,
      "metadata": {},
      "outputs": [],
      "source": [
        "route2,travel2 = bfs.bfs(start,end,matrix)"
      ]
    },
    {
      "cell_type": "code",
      "execution_count": 167,
      "metadata": {},
      "outputs": [
        {
          "name": "stdout",
          "output_type": "stream",
          "text": [
            "Chi phi duong di:  20\n",
            "So o da duyet:  79\n"
          ]
        },
        {
          "data": {
            "image/png": "[encoded data removed]",
            "text/plain": [
              "<Figure size 600x400 with 1 Axes>"
            ]
          },
          "metadata": {},
          "output_type": "display_data"
        },
        {
          "name": "stdout",
          "output_type": "stream",
          "text": [
            "Starting point (x, y) = (8, 15)\n",
            "Ending point (x, y) = (4, 0)\n",
            "Bonus point at position (x, y) = (3, 6) with point -8\n",
            "Bonus point at position (x, y) = (5, 14) with point -2\n",
            "None\n"
          ]
        }
      ],
      "source": [
        "print('Chi phi duong di: ', len(route2))\n",
        "print('So o da duyet: ',travel2)\n",
        "print(visualize_maze(matrix,bonus_points,start,end,route2))"
      ]
    },
    {
      "cell_type": "markdown",
      "metadata": {},
      "source": [
        "### II. Tìm kiếm có thông tin"
      ]
    },
    {
      "cell_type": "markdown",
      "metadata": {},
      "source": [
        "#### 1. Tìm kiếm tham lam (Greedy Best First Search)"
      ]
    },
    {
      "cell_type": "code",
      "execution_count": 168,
      "metadata": {},
      "outputs": [
        {
          "data": {
            "text/plain": [
              "36"
            ]
          },
          "execution_count": 168,
          "metadata": {},
          "output_type": "execute_result"
        }
      ],
      "source": [
        "route3,travel3 = gbfs.gbfs(start,end,matrix,flag)"
      ]
    },
    {
      "cell_type": "code",
      "execution_count": 169,
      "metadata": {},
      "outputs": [
        {
          "name": "stdout",
          "output_type": "stream",
          "text": [
            "Chi phi duong di:  20\n",
            "So o da duyet:  36\n"
          ]
        },
        {
          "data": {
            "image/png": "[encoded data removed]",
            "text/plain": [
              "<Figure size 600x400 with 1 Axes>"
            ]
          },
          "metadata": {},
          "output_type": "display_data"
        },
        {
          "name": "stdout",
          "output_type": "stream",
          "text": [
            "Starting point (x, y) = (8, 15)\n",
            "Ending point (x, y) = (4, 0)\n",
            "Bonus point at position (x, y) = (3, 6) with point -8\n",
            "Bonus point at position (x, y) = (5, 14) with point -2\n",
            "None\n"
          ]
        }
      ],
      "source": [
        "print('Chi phi duong di: ', len(route3))\n",
        "print('So o da duyet: ',travel3)\n",
        "print(visualize_maze(matrix,bonus_points,start,end,route3))"
      ]
    },
    {
      "cell_type": "markdown",
      "metadata": {},
      "source": [
        "#### 2. Tìm kiếm A*"
      ]
    },
    {
      "cell_type": "code",
      "execution_count": 170,
      "metadata": {},
      "outputs": [
        {
          "data": {
            "text/plain": [
              "47"
            ]
          },
          "execution_count": 170,
          "metadata": {},
          "output_type": "execute_result"
        }
      ],
      "source": [
        "route4,travel4 = astar.astar(start,end,matrix,flag)"
      ]
    },
    {
      "cell_type": "code",
      "execution_count": 171,
      "metadata": {},
      "outputs": [
        {
          "name": "stdout",
          "output_type": "stream",
          "text": [
            "Chi phi duong di:  20\n",
            "So o da duyet:  47\n"
          ]
        },
        {
          "data": {
            "image/png": "[encoded data removed]",
            "text/plain": [
              "<Figure size 600x400 with 1 Axes>"
            ]
          },
          "metadata": {},
          "output_type": "display_data"
        },
        {
          "name": "stdout",
          "output_type": "stream",
          "text": [
            "Starting point (x, y) = (8, 15)\n",
            "Ending point (x, y) = (4, 0)\n",
            "Bonus point at position (x, y) = (3, 6) with point -8\n",
            "Bonus point at position (x, y) = (5, 14) with point -2\n",
            "None\n"
          ]
        }
      ],
      "source": [
        "print('Chi phi duong di: ', len(route4))\n",
        "print('So o da duyet: ',travel4)\n",
        "print(visualize_maze(matrix,bonus_points,start,end,route4))"
      ]
    },
    {
      "cell_type": "markdown",
      "metadata": {},
      "source": [
        "### III.Tìm kiếm có điểm thưởng:\n",
        "- Trường hợp không có điểm thưởng thì chạy như thuật toán tìm kiếm bình thường"
      ]
    },
    {
      "cell_type": "markdown",
      "metadata": {},
      "source": [
        "#### 1. Tìm kiếm điểm thưởng bằng thuật toán tham lam"
      ]
    },
    {
      "cell_type": "code",
      "execution_count": 172,
      "metadata": {},
      "outputs": [],
      "source": [
        "temp = bonus_points.copy()\n",
        "route5 = gbfs_bonus.gbfs_bonus(start,end,matrix,temp,flag)\n",
        "distace5 = len(route5)\n",
        "for i in range(len(bonus_points)):\n",
        "    if (bonus_points[i][0],bonus_points[i][1]) in route5:\n",
        "        distace5 += bonus_points[i][2]\n",
        "\n"
      ]
    },
    {
      "cell_type": "code",
      "execution_count": 173,
      "metadata": {
        "colab": {
          "base_uri": "https://localhost:8080/",
          "height": 406
        },
        "id": "UXT5jZiWcYip",
        "outputId": "732d73e0-eb3f-467d-c7a3-cfc74c9deb4f"
      },
      "outputs": [
        {
          "name": "stdout",
          "output_type": "stream",
          "text": [
            "chi phi duong di:  18\n"
          ]
        },
        {
          "data": {
            "image/png": "[encoded data removed]",
            "text/plain": [
              "<Figure size 600x400 with 1 Axes>"
            ]
          },
          "metadata": {},
          "output_type": "display_data"
        },
        {
          "name": "stdout",
          "output_type": "stream",
          "text": [
            "Starting point (x, y) = (8, 15)\n",
            "Ending point (x, y) = (4, 0)\n",
            "Bonus point at position (x, y) = (3, 6) with point -8\n",
            "Bonus point at position (x, y) = (5, 14) with point -2\n",
            "None\n",
            "[(8, 15), (8, 14), (7, 14), (6, 14), (6, 13), (6, 12), (6, 11), (6, 10), (6, 9), (5, 9), (5, 8), (5, 7), (5, 6), (5, 5), (4, 5), (3, 5), (3, 6), (3, 5), (3, 4), (3, 3), (4, 3), (5, 3), (5, 2), (5, 1), (4, 1), (4, 0)]\n"
          ]
        }
      ],
      "source": [
        "print('chi phi duong di: ', distace5)\n",
        "print(visualize_maze(matrix,bonus_points,start,end,route5))\n",
        "print(route5)\n"
      ]
    },
    {
      "cell_type": "markdown",
      "metadata": {},
      "source": [
        "#### 2. Tìm kiếm điểm thưởng bằng A*"
      ]
    },
    {
      "cell_type": "code",
      "execution_count": 174,
      "metadata": {},
      "outputs": [],
      "source": [
        "\n",
        "temp = bonus_points.copy()\n",
        "route6 = astar_bonus.astar_bonus(start,end,matrix,temp,flag)\n",
        "distace6 = len(route6)\n",
        "for i in range(len(bonus_points)):\n",
        "    if (bonus_points[i][0],bonus_points[i][1]) in route6:\n",
        "        distace6 += bonus_points[i][2]\n"
      ]
    },
    {
      "cell_type": "code",
      "execution_count": 175,
      "metadata": {},
      "outputs": [
        {
          "name": "stdout",
          "output_type": "stream",
          "text": [
            "chi phi duong di:  18\n"
          ]
        },
        {
          "data": {
            "image/png": "[encoded data removed]",
            "text/plain": [
              "<Figure size 600x400 with 1 Axes>"
            ]
          },
          "metadata": {},
          "output_type": "display_data"
        },
        {
          "name": "stdout",
          "output_type": "stream",
          "text": [
            "Starting point (x, y) = (8, 15)\n",
            "Ending point (x, y) = (4, 0)\n",
            "Bonus point at position (x, y) = (3, 6) with point -8\n",
            "Bonus point at position (x, y) = (5, 14) with point -2\n",
            "None\n",
            "[(8, 15), (8, 14), (7, 14), (6, 14), (6, 13), (6, 12), (6, 11), (6, 10), (6, 9), (5, 9), (5, 8), (5, 7), (5, 6), (5, 5), (4, 5), (3, 5), (3, 6), (3, 5), (3, 4), (3, 3), (2, 3), (2, 2), (2, 1), (3, 1), (4, 1), (4, 0)]\n"
          ]
        }
      ],
      "source": [
        "print('chi phi duong di: ', distace6)\n",
        "print(visualize_maze(matrix,bonus_points,start,end,route6))\n",
        "print(route6)"
      ]
    }
  ],
  "metadata": {
    "colab": {
      "collapsed_sections": [],
      "name": "IntroToAI_Demo_DoAn1.ipynb",
      "provenance": [],
      "toc_visible": true
    },
    "kernelspec": {
      "display_name": "Python 3",
      "name": "python3"
    },
    "language_info": {
      "codemirror_mode": {
        "name": "ipython",
        "version": 3
      },
      "file_extension": ".py",
      "mimetype": "text/x-python",
      "name": "python",
      "nbconvert_exporter": "python",
      "pygments_lexer": "ipython3",
      "version": "3.9.7"
    }
  },
  "nbformat": 4,
  "nbformat_minor": 0
}
