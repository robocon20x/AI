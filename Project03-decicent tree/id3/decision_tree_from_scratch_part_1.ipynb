{
 "cells": [
  {
   "cell_type": "code",
   "execution_count": 1,
   "id": "conditional-clarity",
   "metadata": {},
   "outputs": [],
   "source": [
    "include(\"ml_lib.jl\")\n",
    "using DataFrames\n",
    "using CSV\n",
    "using Random"
   ]
  },
  {
   "cell_type": "code",
   "execution_count": 2,
   "id": "varying-enlargement",
   "metadata": {},
   "outputs": [],
   "source": [
    "df = DataFrame(CSV.File(\"data/iris.csv\"));"
   ]
  },
  {
   "cell_type": "code",
   "execution_count": 3,
   "id": "demonstrated-console",
   "metadata": {},
   "outputs": [
    {
     "data": {
      "text/plain": [
       "Tuple{Any, Any, Bool}[]"
      ]
     },
     "execution_count": 3,
     "metadata": {},
     "output_type": "execute_result"
    }
   ],
   "source": [
    "predictions = Array{Tuple{Any,Any,Bool}}(undef,0)"
   ]
  },
  {
   "cell_type": "code",
   "execution_count": 6,
   "id": "e95abd72",
   "metadata": {},
   "outputs": [
    {
     "data": {
      "text/plain": [
       "50"
      ]
     },
     "execution_count": 6,
     "metadata": {},
     "output_type": "execute_result"
    }
   ],
   "source": [
    "floor(Int,1/3*nrow(df))"
   ]
  },
  {
   "cell_type": "code",
   "execution_count": 1,
   "id": "imperial-webster",
   "metadata": {},
   "outputs": [
    {
     "data": {
      "text/plain": [
       "0.5"
      ]
     },
     "execution_count": 1,
     "metadata": {},
     "output_type": "execute_result"
    }
   ],
   "source": [
    "1/2"
   ]
  },
  {
   "cell_type": "code",
   "execution_count": 31,
   "id": "e42023b8",
   "metadata": {},
   "outputs": [
    {
     "data": {
      "text/plain": [
       "150-element PooledArrays.PooledVector{String15, UInt32, Vector{UInt32}}:\n",
       " \"Setosa\"\n",
       " \"Setosa\"\n",
       " \"Setosa\"\n",
       " \"Setosa\"\n",
       " \"Setosa\"\n",
       " \"Setosa\"\n",
       " \"Setosa\"\n",
       " \"Setosa\"\n",
       " \"Setosa\"\n",
       " \"Setosa\"\n",
       " \"Setosa\"\n",
       " \"Setosa\"\n",
       " \"Setosa\"\n",
       " ⋮\n",
       " \"Virginica\"\n",
       " \"Virginica\"\n",
       " \"Virginica\"\n",
       " \"Virginica\"\n",
       " \"Virginica\"\n",
       " \"Virginica\"\n",
       " \"Virginica\"\n",
       " \"Virginica\"\n",
       " \"Virginica\"\n",
       " \"Virginica\"\n",
       " \"Virginica\"\n",
       " \"Virginica\""
      ]
     },
     "execution_count": 31,
     "metadata": {},
     "output_type": "execute_result"
    }
   ],
   "source": [
    "df[!,\"variety\"]"
   ]
  },
  {
   "cell_type": "code",
   "execution_count": 32,
   "id": "c89317ec",
   "metadata": {},
   "outputs": [
    {
     "data": {
      "text/plain": [
       "3-element Vector{String}:\n",
       " \"Setosa\"\n",
       " \"Versicolor\"\n",
       " \"Virginica\""
      ]
     },
     "execution_count": 32,
     "metadata": {},
     "output_type": "execute_result"
    }
   ],
   "source": [
    "classValue = [\"Setosa\", \"Versicolor\", \"Virginica\"]"
   ]
  },
  {
   "cell_type": "code",
   "execution_count": 33,
   "id": "optical-disorder",
   "metadata": {},
   "outputs": [
    {
     "data": {
      "text/plain": [
       "Set{String15} with 3 elements:\n",
       "  \"Versicolor\"\n",
       "  \"Setosa\"\n",
       "  \"Virginica\""
      ]
     },
     "execution_count": 33,
     "metadata": {},
     "output_type": "execute_result"
    }
   ],
   "source": [
    "unique_sex = Set(df_min_cols.variety)"
   ]
  },
  {
   "cell_type": "code",
   "execution_count": 41,
   "id": "226e8faf",
   "metadata": {},
   "outputs": [
    {
     "data": {
      "text/html": [
       "<div class=\"data-frame\"><p>150 rows × 5 columns</p><table class=\"data-frame\"><thead><tr><th></th><th>sepal.length</th><th>sepal.width</th><th>petal.length</th><th>petal.width</th><th>variety</th></tr><tr><th></th><th title=\"Float64\">Float64</th><th title=\"Float64\">Float64</th><th title=\"Float64\">Float64</th><th title=\"Float64\">Float64</th><th title=\"String15\">String15</th></tr></thead><tbody><tr><th>1</th><td>5.1</td><td>3.5</td><td>1.4</td><td>0.2</td><td>Setosa</td></tr><tr><th>2</th><td>4.9</td><td>3.0</td><td>1.4</td><td>0.2</td><td>Setosa</td></tr><tr><th>3</th><td>4.7</td><td>3.2</td><td>1.3</td><td>0.2</td><td>Setosa</td></tr><tr><th>4</th><td>4.6</td><td>3.1</td><td>1.5</td><td>0.2</td><td>Setosa</td></tr><tr><th>5</th><td>5.0</td><td>3.6</td><td>1.4</td><td>0.2</td><td>Setosa</td></tr><tr><th>6</th><td>5.4</td><td>3.9</td><td>1.7</td><td>0.4</td><td>Setosa</td></tr><tr><th>7</th><td>4.6</td><td>3.4</td><td>1.4</td><td>0.3</td><td>Setosa</td></tr><tr><th>8</th><td>5.0</td><td>3.4</td><td>1.5</td><td>0.2</td><td>Setosa</td></tr><tr><th>9</th><td>4.4</td><td>2.9</td><td>1.4</td><td>0.2</td><td>Setosa</td></tr><tr><th>10</th><td>4.9</td><td>3.1</td><td>1.5</td><td>0.1</td><td>Setosa</td></tr><tr><th>11</th><td>5.4</td><td>3.7</td><td>1.5</td><td>0.2</td><td>Setosa</td></tr><tr><th>12</th><td>4.8</td><td>3.4</td><td>1.6</td><td>0.2</td><td>Setosa</td></tr><tr><th>13</th><td>4.8</td><td>3.0</td><td>1.4</td><td>0.1</td><td>Setosa</td></tr><tr><th>14</th><td>4.3</td><td>3.0</td><td>1.1</td><td>0.1</td><td>Setosa</td></tr><tr><th>15</th><td>5.8</td><td>4.0</td><td>1.2</td><td>0.2</td><td>Setosa</td></tr><tr><th>16</th><td>5.7</td><td>4.4</td><td>1.5</td><td>0.4</td><td>Setosa</td></tr><tr><th>17</th><td>5.4</td><td>3.9</td><td>1.3</td><td>0.4</td><td>Setosa</td></tr><tr><th>18</th><td>5.1</td><td>3.5</td><td>1.4</td><td>0.3</td><td>Setosa</td></tr><tr><th>19</th><td>5.7</td><td>3.8</td><td>1.7</td><td>0.3</td><td>Setosa</td></tr><tr><th>20</th><td>5.1</td><td>3.8</td><td>1.5</td><td>0.3</td><td>Setosa</td></tr><tr><th>21</th><td>5.4</td><td>3.4</td><td>1.7</td><td>0.2</td><td>Setosa</td></tr><tr><th>22</th><td>5.1</td><td>3.7</td><td>1.5</td><td>0.4</td><td>Setosa</td></tr><tr><th>23</th><td>4.6</td><td>3.6</td><td>1.0</td><td>0.2</td><td>Setosa</td></tr><tr><th>24</th><td>5.1</td><td>3.3</td><td>1.7</td><td>0.5</td><td>Setosa</td></tr><tr><th>25</th><td>4.8</td><td>3.4</td><td>1.9</td><td>0.2</td><td>Setosa</td></tr><tr><th>26</th><td>5.0</td><td>3.0</td><td>1.6</td><td>0.2</td><td>Setosa</td></tr><tr><th>27</th><td>5.0</td><td>3.4</td><td>1.6</td><td>0.4</td><td>Setosa</td></tr><tr><th>28</th><td>5.2</td><td>3.5</td><td>1.5</td><td>0.2</td><td>Setosa</td></tr><tr><th>29</th><td>5.2</td><td>3.4</td><td>1.4</td><td>0.2</td><td>Setosa</td></tr><tr><th>30</th><td>4.7</td><td>3.2</td><td>1.6</td><td>0.2</td><td>Setosa</td></tr><tr><th>&vellip;</th><td>&vellip;</td><td>&vellip;</td><td>&vellip;</td><td>&vellip;</td><td>&vellip;</td></tr></tbody></table></div>"
      ],
      "text/latex": [
       "\\begin{tabular}{r|ccccc}\n",
       "\t& sepal.length & sepal.width & petal.length & petal.width & variety\\\\\n",
       "\t\\hline\n",
       "\t& Float64 & Float64 & Float64 & Float64 & String15\\\\\n",
       "\t\\hline\n",
       "\t1 & 5.1 & 3.5 & 1.4 & 0.2 & Setosa \\\\\n",
       "\t2 & 4.9 & 3.0 & 1.4 & 0.2 & Setosa \\\\\n",
       "\t3 & 4.7 & 3.2 & 1.3 & 0.2 & Setosa \\\\\n",
       "\t4 & 4.6 & 3.1 & 1.5 & 0.2 & Setosa \\\\\n",
       "\t5 & 5.0 & 3.6 & 1.4 & 0.2 & Setosa \\\\\n",
       "\t6 & 5.4 & 3.9 & 1.7 & 0.4 & Setosa \\\\\n",
       "\t7 & 4.6 & 3.4 & 1.4 & 0.3 & Setosa \\\\\n",
       "\t8 & 5.0 & 3.4 & 1.5 & 0.2 & Setosa \\\\\n",
       "\t9 & 4.4 & 2.9 & 1.4 & 0.2 & Setosa \\\\\n",
       "\t10 & 4.9 & 3.1 & 1.5 & 0.1 & Setosa \\\\\n",
       "\t11 & 5.4 & 3.7 & 1.5 & 0.2 & Setosa \\\\\n",
       "\t12 & 4.8 & 3.4 & 1.6 & 0.2 & Setosa \\\\\n",
       "\t13 & 4.8 & 3.0 & 1.4 & 0.1 & Setosa \\\\\n",
       "\t14 & 4.3 & 3.0 & 1.1 & 0.1 & Setosa \\\\\n",
       "\t15 & 5.8 & 4.0 & 1.2 & 0.2 & Setosa \\\\\n",
       "\t16 & 5.7 & 4.4 & 1.5 & 0.4 & Setosa \\\\\n",
       "\t17 & 5.4 & 3.9 & 1.3 & 0.4 & Setosa \\\\\n",
       "\t18 & 5.1 & 3.5 & 1.4 & 0.3 & Setosa \\\\\n",
       "\t19 & 5.7 & 3.8 & 1.7 & 0.3 & Setosa \\\\\n",
       "\t20 & 5.1 & 3.8 & 1.5 & 0.3 & Setosa \\\\\n",
       "\t21 & 5.4 & 3.4 & 1.7 & 0.2 & Setosa \\\\\n",
       "\t22 & 5.1 & 3.7 & 1.5 & 0.4 & Setosa \\\\\n",
       "\t23 & 4.6 & 3.6 & 1.0 & 0.2 & Setosa \\\\\n",
       "\t24 & 5.1 & 3.3 & 1.7 & 0.5 & Setosa \\\\\n",
       "\t25 & 4.8 & 3.4 & 1.9 & 0.2 & Setosa \\\\\n",
       "\t26 & 5.0 & 3.0 & 1.6 & 0.2 & Setosa \\\\\n",
       "\t27 & 5.0 & 3.4 & 1.6 & 0.4 & Setosa \\\\\n",
       "\t28 & 5.2 & 3.5 & 1.5 & 0.2 & Setosa \\\\\n",
       "\t29 & 5.2 & 3.4 & 1.4 & 0.2 & Setosa \\\\\n",
       "\t30 & 4.7 & 3.2 & 1.6 & 0.2 & Setosa \\\\\n",
       "\t$\\dots$ & $\\dots$ & $\\dots$ & $\\dots$ & $\\dots$ & $\\dots$ \\\\\n",
       "\\end{tabular}\n"
      ],
      "text/plain": [
       "\u001b[1m150×5 DataFrame\u001b[0m\n",
       "\u001b[1m Row \u001b[0m│\u001b[1m sepal.length \u001b[0m\u001b[1m sepal.width \u001b[0m\u001b[1m petal.length \u001b[0m\u001b[1m petal.width \u001b[0m\u001b[1m variety   \u001b[0m\n",
       "\u001b[1m     \u001b[0m│\u001b[90m Float64      \u001b[0m\u001b[90m Float64     \u001b[0m\u001b[90m Float64      \u001b[0m\u001b[90m Float64     \u001b[0m\u001b[90m String15  \u001b[0m\n",
       "─────┼─────────────────────────────────────────────────────────────────\n",
       "   1 │          5.1          3.5           1.4          0.2  Setosa\n",
       "   2 │          4.9          3.0           1.4          0.2  Setosa\n",
       "   3 │          4.7          3.2           1.3          0.2  Setosa\n",
       "   4 │          4.6          3.1           1.5          0.2  Setosa\n",
       "   5 │          5.0          3.6           1.4          0.2  Setosa\n",
       "   6 │          5.4          3.9           1.7          0.4  Setosa\n",
       "   7 │          4.6          3.4           1.4          0.3  Setosa\n",
       "   8 │          5.0          3.4           1.5          0.2  Setosa\n",
       "   9 │          4.4          2.9           1.4          0.2  Setosa\n",
       "  10 │          4.9          3.1           1.5          0.1  Setosa\n",
       "  11 │          5.4          3.7           1.5          0.2  Setosa\n",
       "  ⋮  │      ⋮             ⋮            ⋮             ⋮           ⋮\n",
       " 141 │          6.7          3.1           5.6          2.4  Virginica\n",
       " 142 │          6.9          3.1           5.1          2.3  Virginica\n",
       " 143 │          5.8          2.7           5.1          1.9  Virginica\n",
       " 144 │          6.8          3.2           5.9          2.3  Virginica\n",
       " 145 │          6.7          3.3           5.7          2.5  Virginica\n",
       " 146 │          6.7          3.0           5.2          2.3  Virginica\n",
       " 147 │          6.3          2.5           5.0          1.9  Virginica\n",
       " 148 │          6.5          3.0           5.2          2.0  Virginica\n",
       " 149 │          6.2          3.4           5.4          2.3  Virginica\n",
       " 150 │          5.9          3.0           5.1          1.8  Virginica\n",
       "\u001b[36m                                                       129 rows omitted\u001b[0m"
      ]
     },
     "execution_count": 41,
     "metadata": {},
     "output_type": "execute_result"
    }
   ],
   "source": [
    "df"
   ]
  },
  {
   "cell_type": "code",
   "execution_count": 47,
   "id": "antique-breast",
   "metadata": {},
   "outputs": [
    {
     "ename": "LoadError",
     "evalue": "UndefVarError: row not defined",
     "output_type": "error",
     "traceback": [
      "UndefVarError: row not defined",
      "",
      "Stacktrace:",
      " [1] top-level scope",
      "   @ In[47]:1",
      " [2] eval",
      "   @ .\\boot.jl:373 [inlined]",
      " [3] include_string(mapexpr::typeof(REPL.softscope), mod::Module, code::String, filename::String)",
      "   @ Base .\\loading.jl:1196"
     ]
    }
   ],
   "source": [
    "row[size(df,2)]"
   ]
  },
  {
   "cell_type": "code",
   "execution_count": null,
   "id": "antique-senior",
   "metadata": {},
   "outputs": [],
   "source": [
    "filter_second_class = df_min_cols.Pclass .== 2\n",
    "df_second_class = df_min_cols[filter_second_class, :]\n",
    "\n",
    "first(df_second_class, 5)"
   ]
  },
  {
   "cell_type": "code",
   "execution_count": null,
   "id": "signed-contamination",
   "metadata": {},
   "outputs": [],
   "source": [
    "filter_third_class = df_min_cols.Pclass .== 3\n",
    "df_third_class = df_min_cols[filter_third_class, :]\n",
    "\n",
    "first(df_third_class, 5)"
   ]
  },
  {
   "cell_type": "code",
   "execution_count": null,
   "id": "cellular-swift",
   "metadata": {},
   "outputs": [],
   "source": [
    "println(\"df_min_cols entropy: \", entropy(df_min_cols.Survived))\n",
    "println(\"df_first_class entropy: \", entropy(df_first_class.Survived))\n",
    "println(\"df_second_class entropy: \", entropy(df_second_class.Survived))\n",
    "println(\"df_third_class entropy: \", entropy(df_third_class.Survived))"
   ]
  },
  {
   "cell_type": "code",
   "execution_count": null,
   "id": "developing-attempt",
   "metadata": {},
   "outputs": [],
   "source": [
    "filter_men = df_min_cols.Sex .== \"male\"\n",
    "df_men = df_min_cols[filter_men, :]\n",
    "\n",
    "filter_women = .! filter_men\n",
    "df_women = df_min_cols[filter_women, :]\n",
    "\n",
    "println(\"df_min_cols entropy: \", entropy(df_min_cols.Survived))\n",
    "println(\"df_men entropy: \", entropy(df_men.Survived))\n",
    "println(\"df_women entropy: \", entropy(df_women.Survived))"
   ]
  },
  {
   "cell_type": "code",
   "execution_count": null,
   "id": "laden-correction",
   "metadata": {},
   "outputs": [
    {
     "data": {
      "text/plain": [
       "(0.0, 0, 1)"
      ]
     },
     "execution_count": 15,
     "metadata": {},
     "output_type": "execute_result"
    }
   ],
   "source": [
    "max_gain = (0.,0,1)"
   ]
  },
  {
   "cell_type": "code",
   "execution_count": null,
   "id": "5c683752",
   "metadata": {},
   "outputs": [
    {
     "data": {
      "text/html": [
       "<div class=\"data-frame\"><p>50 rows × 5 columns</p><table class=\"data-frame\"><thead><tr><th></th><th>sepal.length</th><th>sepal.width</th><th>petal.length</th><th>petal.width</th><th>variety</th></tr><tr><th></th><th title=\"Float64\">Float64</th><th title=\"Float64\">Float64</th><th title=\"Float64\">Float64</th><th title=\"Float64\">Float64</th><th title=\"String15\">String15</th></tr></thead><tbody><tr><th>1</th><td>7.9</td><td>3.8</td><td>6.4</td><td>2.0</td><td>Virginica</td></tr><tr><th>2</th><td>6.4</td><td>3.1</td><td>5.5</td><td>1.8</td><td>Virginica</td></tr><tr><th>3</th><td>5.4</td><td>3.7</td><td>1.5</td><td>0.2</td><td>Setosa</td></tr><tr><th>4</th><td>6.3</td><td>3.3</td><td>6.0</td><td>2.5</td><td>Virginica</td></tr><tr><th>5</th><td>6.2</td><td>2.9</td><td>4.3</td><td>1.3</td><td>Versicolor</td></tr><tr><th>6</th><td>4.8</td><td>3.4</td><td>1.6</td><td>0.2</td><td>Setosa</td></tr><tr><th>7</th><td>5.0</td><td>3.5</td><td>1.6</td><td>0.6</td><td>Setosa</td></tr><tr><th>8</th><td>6.5</td><td>3.2</td><td>5.1</td><td>2.0</td><td>Virginica</td></tr><tr><th>9</th><td>7.1</td><td>3.0</td><td>5.9</td><td>2.1</td><td>Virginica</td></tr><tr><th>10</th><td>5.0</td><td>3.6</td><td>1.4</td><td>0.2</td><td>Setosa</td></tr><tr><th>11</th><td>4.8</td><td>3.0</td><td>1.4</td><td>0.3</td><td>Setosa</td></tr><tr><th>12</th><td>5.8</td><td>2.6</td><td>4.0</td><td>1.2</td><td>Versicolor</td></tr><tr><th>13</th><td>6.2</td><td>2.2</td><td>4.5</td><td>1.5</td><td>Versicolor</td></tr><tr><th>14</th><td>5.2</td><td>3.4</td><td>1.4</td><td>0.2</td><td>Setosa</td></tr><tr><th>15</th><td>5.8</td><td>2.8</td><td>5.1</td><td>2.4</td><td>Virginica</td></tr><tr><th>16</th><td>5.0</td><td>2.0</td><td>3.5</td><td>1.0</td><td>Versicolor</td></tr><tr><th>17</th><td>5.8</td><td>2.7</td><td>5.1</td><td>1.9</td><td>Virginica</td></tr><tr><th>18</th><td>5.5</td><td>2.6</td><td>4.4</td><td>1.2</td><td>Versicolor</td></tr><tr><th>19</th><td>5.0</td><td>2.3</td><td>3.3</td><td>1.0</td><td>Versicolor</td></tr><tr><th>20</th><td>5.5</td><td>4.2</td><td>1.4</td><td>0.2</td><td>Setosa</td></tr><tr><th>21</th><td>6.3</td><td>2.7</td><td>4.9</td><td>1.8</td><td>Virginica</td></tr><tr><th>22</th><td>6.3</td><td>2.3</td><td>4.4</td><td>1.3</td><td>Versicolor</td></tr><tr><th>23</th><td>4.8</td><td>3.1</td><td>1.6</td><td>0.2</td><td>Setosa</td></tr><tr><th>24</th><td>4.4</td><td>3.0</td><td>1.3</td><td>0.2</td><td>Setosa</td></tr><tr><th>25</th><td>5.1</td><td>3.8</td><td>1.6</td><td>0.2</td><td>Setosa</td></tr><tr><th>26</th><td>5.6</td><td>2.9</td><td>3.6</td><td>1.3</td><td>Versicolor</td></tr><tr><th>27</th><td>5.2</td><td>2.7</td><td>3.9</td><td>1.4</td><td>Versicolor</td></tr><tr><th>28</th><td>6.1</td><td>3.0</td><td>4.9</td><td>1.8</td><td>Virginica</td></tr><tr><th>29</th><td>6.4</td><td>2.8</td><td>5.6</td><td>2.2</td><td>Virginica</td></tr><tr><th>30</th><td>6.1</td><td>2.9</td><td>4.7</td><td>1.4</td><td>Versicolor</td></tr><tr><th>&vellip;</th><td>&vellip;</td><td>&vellip;</td><td>&vellip;</td><td>&vellip;</td><td>&vellip;</td></tr></tbody></table></div>"
      ],
      "text/latex": [
       "\\begin{tabular}{r|ccccc}\n",
       "\t& sepal.length & sepal.width & petal.length & petal.width & variety\\\\\n",
       "\t\\hline\n",
       "\t& Float64 & Float64 & Float64 & Float64 & String15\\\\\n",
       "\t\\hline\n",
       "\t1 & 7.9 & 3.8 & 6.4 & 2.0 & Virginica \\\\\n",
       "\t2 & 6.4 & 3.1 & 5.5 & 1.8 & Virginica \\\\\n",
       "\t3 & 5.4 & 3.7 & 1.5 & 0.2 & Setosa \\\\\n",
       "\t4 & 6.3 & 3.3 & 6.0 & 2.5 & Virginica \\\\\n",
       "\t5 & 6.2 & 2.9 & 4.3 & 1.3 & Versicolor \\\\\n",
       "\t6 & 4.8 & 3.4 & 1.6 & 0.2 & Setosa \\\\\n",
       "\t7 & 5.0 & 3.5 & 1.6 & 0.6 & Setosa \\\\\n",
       "\t8 & 6.5 & 3.2 & 5.1 & 2.0 & Virginica \\\\\n",
       "\t9 & 7.1 & 3.0 & 5.9 & 2.1 & Virginica \\\\\n",
       "\t10 & 5.0 & 3.6 & 1.4 & 0.2 & Setosa \\\\\n",
       "\t11 & 4.8 & 3.0 & 1.4 & 0.3 & Setosa \\\\\n",
       "\t12 & 5.8 & 2.6 & 4.0 & 1.2 & Versicolor \\\\\n",
       "\t13 & 6.2 & 2.2 & 4.5 & 1.5 & Versicolor \\\\\n",
       "\t14 & 5.2 & 3.4 & 1.4 & 0.2 & Setosa \\\\\n",
       "\t15 & 5.8 & 2.8 & 5.1 & 2.4 & Virginica \\\\\n",
       "\t16 & 5.0 & 2.0 & 3.5 & 1.0 & Versicolor \\\\\n",
       "\t17 & 5.8 & 2.7 & 5.1 & 1.9 & Virginica \\\\\n",
       "\t18 & 5.5 & 2.6 & 4.4 & 1.2 & Versicolor \\\\\n",
       "\t19 & 5.0 & 2.3 & 3.3 & 1.0 & Versicolor \\\\\n",
       "\t20 & 5.5 & 4.2 & 1.4 & 0.2 & Setosa \\\\\n",
       "\t21 & 6.3 & 2.7 & 4.9 & 1.8 & Virginica \\\\\n",
       "\t22 & 6.3 & 2.3 & 4.4 & 1.3 & Versicolor \\\\\n",
       "\t23 & 4.8 & 3.1 & 1.6 & 0.2 & Setosa \\\\\n",
       "\t24 & 4.4 & 3.0 & 1.3 & 0.2 & Setosa \\\\\n",
       "\t25 & 5.1 & 3.8 & 1.6 & 0.2 & Setosa \\\\\n",
       "\t26 & 5.6 & 2.9 & 3.6 & 1.3 & Versicolor \\\\\n",
       "\t27 & 5.2 & 2.7 & 3.9 & 1.4 & Versicolor \\\\\n",
       "\t28 & 6.1 & 3.0 & 4.9 & 1.8 & Virginica \\\\\n",
       "\t29 & 6.4 & 2.8 & 5.6 & 2.2 & Virginica \\\\\n",
       "\t30 & 6.1 & 2.9 & 4.7 & 1.4 & Versicolor \\\\\n",
       "\t$\\dots$ & $\\dots$ & $\\dots$ & $\\dots$ & $\\dots$ & $\\dots$ \\\\\n",
       "\\end{tabular}\n"
      ],
      "text/plain": [
       "\u001b[1m50×5 DataFrame\u001b[0m\n",
       "\u001b[1m Row \u001b[0m│\u001b[1m sepal.length \u001b[0m\u001b[1m sepal.width \u001b[0m\u001b[1m petal.length \u001b[0m\u001b[1m petal.width \u001b[0m\u001b[1m variety    \u001b[0m\n",
       "\u001b[1m     \u001b[0m│\u001b[90m Float64      \u001b[0m\u001b[90m Float64     \u001b[0m\u001b[90m Float64      \u001b[0m\u001b[90m Float64     \u001b[0m\u001b[90m String15   \u001b[0m\n",
       "─────┼──────────────────────────────────────────────────────────────────\n",
       "   1 │          7.9          3.8           6.4          2.0  Virginica\n",
       "   2 │          6.4          3.1           5.5          1.8  Virginica\n",
       "   3 │          5.4          3.7           1.5          0.2  Setosa\n",
       "   4 │          6.3          3.3           6.0          2.5  Virginica\n",
       "   5 │          6.2          2.9           4.3          1.3  Versicolor\n",
       "   6 │          4.8          3.4           1.6          0.2  Setosa\n",
       "   7 │          5.0          3.5           1.6          0.6  Setosa\n",
       "   8 │          6.5          3.2           5.1          2.0  Virginica\n",
       "   9 │          7.1          3.0           5.9          2.1  Virginica\n",
       "  10 │          5.0          3.6           1.4          0.2  Setosa\n",
       "  11 │          4.8          3.0           1.4          0.3  Setosa\n",
       "  ⋮  │      ⋮             ⋮            ⋮             ⋮           ⋮\n",
       "  41 │          4.6          3.4           1.4          0.3  Setosa\n",
       "  42 │          7.7          2.8           6.7          2.0  Virginica\n",
       "  43 │          5.5          2.5           4.0          1.3  Versicolor\n",
       "  44 │          5.8          2.7           3.9          1.2  Versicolor\n",
       "  45 │          5.8          4.0           1.2          0.2  Setosa\n",
       "  46 │          6.9          3.2           5.7          2.3  Virginica\n",
       "  47 │          5.3          3.7           1.5          0.2  Setosa\n",
       "  48 │          4.6          3.1           1.5          0.2  Setosa\n",
       "  49 │          6.0          3.4           4.5          1.6  Versicolor\n",
       "  50 │          6.7          3.1           4.7          1.5  Versicolor\n",
       "\u001b[36m                                                         29 rows omitted\u001b[0m"
      ]
     },
     "execution_count": 26,
     "metadata": {},
     "output_type": "execute_result"
    }
   ],
   "source": [
    "n  = nrow(df)\n",
    "cut =  Int(round(n*0.33))\n",
    "\n",
    "idexs = (1:n)\n",
    "\n",
    "idexs  = shuffle(MersenneTwister(1234),idexs)\n",
    "\n",
    "train_rows =  idexs[cut:n]\n",
    "test_rows =  idexs[1:cut]\n",
    "\n",
    "# train =  copy(df[train_rows,:])\n",
    "test = copy(df[test_rows,:])"
   ]
  },
  {
   "cell_type": "code",
   "execution_count": 37,
   "id": "04246405",
   "metadata": {},
   "outputs": [
    {
     "ename": "LoadError",
     "evalue": "ArgumentError: syntax df[column] is not supported use df[!, column] instead",
     "output_type": "error",
     "traceback": [
      "ArgumentError: syntax df[column] is not supported use df[!, column] instead",
      "",
      "Stacktrace:",
      " [1] getindex(#unused#::DataFrame, #unused#::Int64)",
      "   @ DataFrames C:\\Users\\luutr\\.julia\\packages\\DataFrames\\BM4OQ\\src\\abstractdataframe\\abstractdataframe.jl:2257",
      " [2] top-level scope",
      "   @ In[37]:1",
      " [3] eval",
      "   @ .\\boot.jl:373 [inlined]",
      " [4] include_string(mapexpr::typeof(REPL.softscope), mod::Module, code::String, filename::String)",
      "   @ Base .\\loading.jl:1196"
     ]
    }
   ],
   "source": [
    "df_min_cols[1]"
   ]
  }
 ],
 "metadata": {
  "kernelspec": {
   "display_name": "Julia 1.7.0",
   "language": "julia",
   "name": "julia-1.7"
  },
  "language_info": {
   "file_extension": ".jl",
   "mimetype": "application/julia",
   "name": "julia",
   "version": "1.7.0"
  }
 },
 "nbformat": 4,
 "nbformat_minor": 5
}
