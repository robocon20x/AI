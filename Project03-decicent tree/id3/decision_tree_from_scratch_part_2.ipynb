{
 "cells": [
  {
   "cell_type": "code",
   "execution_count": 1,
   "id": "pointed-evaluation",
   "metadata": {},
   "outputs": [],
   "source": [
    "include(\"ml_lib.jl\")\n",
    "using DataFrames\n",
    "using CSV"
   ]
  },
  {
   "cell_type": "code",
   "execution_count": 2,
   "id": "complicated-stake",
   "metadata": {},
   "outputs": [],
   "source": [
    "df = DataFrame(CSV.File(\"data/titanic_feature_engineered.csv\"))\n",
    "df_min_cols = df[:, [:Sex, :Pclass, :Survived]]\n",
    "dropmissing!(df_min_cols);"
   ]
  },
  {
   "cell_type": "code",
   "execution_count": 3,
   "id": "desperate-worse",
   "metadata": {},
   "outputs": [
    {
     "data": {
      "text/plain": [
       "average_entropy_after_split (generic function with 1 method)"
      ]
     },
     "execution_count": 3,
     "metadata": {},
     "output_type": "execute_result"
    }
   ],
   "source": [
    "function average_entropy_after_split(data_frame, dependent_feature, feature_to_split)\n",
    "    feature_values = Set(data_frame[!, feature_to_split])\n",
    "    total_entropy = 0\n",
    "    \n",
    "    for value in feature_values\n",
    "        filter = data_frame[!, feature_to_split] .== value\n",
    "        split = data_frame[filter, :]\n",
    "        total_entropy += entropy(split[!, dependent_feature])\n",
    "    end\n",
    "    \n",
    "    total_entropy / length(feature_values)\n",
    "end"
   ]
  },
  {
   "cell_type": "code",
   "execution_count": 4,
   "id": "leading-translator",
   "metadata": {},
   "outputs": [
    {
     "data": {
      "text/plain": [
       "0.9159238054641065"
      ]
     },
     "execution_count": 4,
     "metadata": {},
     "output_type": "execute_result"
    }
   ],
   "source": [
    "average_entropy_after_split(df_min_cols, \"Survived\", \"Pclass\")"
   ]
  },
  {
   "cell_type": "code",
   "execution_count": 5,
   "id": "black-receipt",
   "metadata": {},
   "outputs": [
    {
     "data": {
      "text/plain": [
       "0.76141843152518"
      ]
     },
     "execution_count": 5,
     "metadata": {},
     "output_type": "execute_result"
    }
   ],
   "source": [
    "average_entropy_after_split(df_min_cols, :Survived, :Sex)"
   ]
  },
  {
   "cell_type": "code",
   "execution_count": 6,
   "id": "civil-orlando",
   "metadata": {},
   "outputs": [
    {
     "data": {
      "text/plain": [
       "column_to_split (generic function with 1 method)"
      ]
     },
     "execution_count": 6,
     "metadata": {},
     "output_type": "execute_result"
    }
   ],
   "source": [
    "function column_to_split(data_frame, dependent_feature)\n",
    "    features = delete!(Set(names(data_frame)), dependent_feature)\n",
    "    feature_to_split = nothing\n",
    "    least_entropy = entropy(data_frame[!, dependent_feature])\n",
    "    \n",
    "    for feature in features\n",
    "        split_entropy = average_entropy_after_split(data_frame, dependent_feature, feature)\n",
    "        \n",
    "        if split_entropy < least_entropy\n",
    "            least_entropy = split_entropy\n",
    "            feature_to_split = feature\n",
    "        end\n",
    "    end\n",
    "    \n",
    "    feature_to_split\n",
    "end"
   ]
  },
  {
   "cell_type": "code",
   "execution_count": 69,
   "id": "matched-yeast",
   "metadata": {},
   "outputs": [
    {
     "name": "stdout",
     "output_type": "stream",
     "text": [
      "column_to_split\n"
     ]
    },
    {
     "data": {
      "text/plain": [
       "\"Sex\""
      ]
     },
     "execution_count": 69,
     "metadata": {},
     "output_type": "execute_result"
    }
   ],
   "source": [
    "column_to_split(df_min_cols, \"Survived\")"
   ]
  },
  {
   "cell_type": "code",
   "execution_count": 8,
   "id": "honest-flooring",
   "metadata": {},
   "outputs": [
    {
     "data": {
      "text/plain": [
       "split_by (generic function with 1 method)"
      ]
     },
     "execution_count": 8,
     "metadata": {},
     "output_type": "execute_result"
    }
   ],
   "source": [
    "function split_by(data_frame, feature)\n",
    "    feature_values = Set(data_frame[!, feature])\n",
    "    splits = Dict()\n",
    "    \n",
    "    for value in feature_values\n",
    "        filter = data_frame[!, feature] .== value\n",
    "        split = data_frame[filter, :]\n",
    "        splits[value] = split\n",
    "    end\n",
    "    \n",
    "    splits\n",
    "end"
   ]
  },
  {
   "cell_type": "code",
   "execution_count": 9,
   "id": "saved-badge",
   "metadata": {},
   "outputs": [
    {
     "data": {
      "text/plain": [
       "Dict{Any, Any} with 2 entries:\n",
       "  \"male\"   => \u001b[1m577×3 DataFrame\u001b[0m…\n",
       "  \"female\" => \u001b[1m314×3 DataFrame\u001b[0m…"
      ]
     },
     "execution_count": 9,
     "metadata": {},
     "output_type": "execute_result"
    }
   ],
   "source": [
    "split_by_sex = split_by(df_min_cols, \"Sex\")"
   ]
  },
  {
   "cell_type": "code",
   "execution_count": 10,
   "id": "solar-footwear",
   "metadata": {},
   "outputs": [
    {
     "data": {
      "text/html": [
       "<table class=\"data-frame\"><thead><tr><th></th><th>Sex</th><th>Pclass</th><th>Survived</th></tr><tr><th></th><th>String</th><th>Int64</th><th>Int64</th></tr></thead><tbody><p>577 rows × 3 columns</p><tr><th>1</th><td>male</td><td>3</td><td>0</td></tr><tr><th>2</th><td>male</td><td>3</td><td>0</td></tr><tr><th>3</th><td>male</td><td>3</td><td>0</td></tr><tr><th>4</th><td>male</td><td>1</td><td>0</td></tr><tr><th>5</th><td>male</td><td>3</td><td>0</td></tr><tr><th>6</th><td>male</td><td>3</td><td>0</td></tr><tr><th>7</th><td>male</td><td>3</td><td>0</td></tr><tr><th>8</th><td>male</td><td>3</td><td>0</td></tr><tr><th>9</th><td>male</td><td>2</td><td>1</td></tr><tr><th>10</th><td>male</td><td>2</td><td>0</td></tr><tr><th>11</th><td>male</td><td>2</td><td>1</td></tr><tr><th>12</th><td>male</td><td>1</td><td>1</td></tr><tr><th>13</th><td>male</td><td>3</td><td>0</td></tr><tr><th>14</th><td>male</td><td>1</td><td>0</td></tr><tr><th>15</th><td>male</td><td>3</td><td>0</td></tr><tr><th>16</th><td>male</td><td>1</td><td>0</td></tr><tr><th>17</th><td>male</td><td>2</td><td>0</td></tr><tr><th>18</th><td>male</td><td>1</td><td>0</td></tr><tr><th>19</th><td>male</td><td>1</td><td>0</td></tr><tr><th>20</th><td>male</td><td>3</td><td>1</td></tr><tr><th>21</th><td>male</td><td>3</td><td>0</td></tr><tr><th>22</th><td>male</td><td>3</td><td>0</td></tr><tr><th>23</th><td>male</td><td>3</td><td>0</td></tr><tr><th>24</th><td>male</td><td>3</td><td>0</td></tr><tr><th>25</th><td>male</td><td>3</td><td>0</td></tr><tr><th>26</th><td>male</td><td>3</td><td>0</td></tr><tr><th>27</th><td>male</td><td>3</td><td>0</td></tr><tr><th>28</th><td>male</td><td>1</td><td>0</td></tr><tr><th>29</th><td>male</td><td>1</td><td>1</td></tr><tr><th>30</th><td>male</td><td>3</td><td>0</td></tr><tr><th>&vellip;</th><td>&vellip;</td><td>&vellip;</td><td>&vellip;</td></tr></tbody></table>"
      ],
      "text/latex": [
       "\\begin{tabular}{r|ccc}\n",
       "\t& Sex & Pclass & Survived\\\\\n",
       "\t\\hline\n",
       "\t& String & Int64 & Int64\\\\\n",
       "\t\\hline\n",
       "\t1 & male & 3 & 0 \\\\\n",
       "\t2 & male & 3 & 0 \\\\\n",
       "\t3 & male & 3 & 0 \\\\\n",
       "\t4 & male & 1 & 0 \\\\\n",
       "\t5 & male & 3 & 0 \\\\\n",
       "\t6 & male & 3 & 0 \\\\\n",
       "\t7 & male & 3 & 0 \\\\\n",
       "\t8 & male & 3 & 0 \\\\\n",
       "\t9 & male & 2 & 1 \\\\\n",
       "\t10 & male & 2 & 0 \\\\\n",
       "\t11 & male & 2 & 1 \\\\\n",
       "\t12 & male & 1 & 1 \\\\\n",
       "\t13 & male & 3 & 0 \\\\\n",
       "\t14 & male & 1 & 0 \\\\\n",
       "\t15 & male & 3 & 0 \\\\\n",
       "\t16 & male & 1 & 0 \\\\\n",
       "\t17 & male & 2 & 0 \\\\\n",
       "\t18 & male & 1 & 0 \\\\\n",
       "\t19 & male & 1 & 0 \\\\\n",
       "\t20 & male & 3 & 1 \\\\\n",
       "\t21 & male & 3 & 0 \\\\\n",
       "\t22 & male & 3 & 0 \\\\\n",
       "\t23 & male & 3 & 0 \\\\\n",
       "\t24 & male & 3 & 0 \\\\\n",
       "\t25 & male & 3 & 0 \\\\\n",
       "\t26 & male & 3 & 0 \\\\\n",
       "\t27 & male & 3 & 0 \\\\\n",
       "\t28 & male & 1 & 0 \\\\\n",
       "\t29 & male & 1 & 1 \\\\\n",
       "\t30 & male & 3 & 0 \\\\\n",
       "\t$\\dots$ & $\\dots$ & $\\dots$ & $\\dots$ \\\\\n",
       "\\end{tabular}\n"
      ],
      "text/plain": [
       "\u001b[1m577×3 DataFrame\u001b[0m\n",
       "\u001b[1m Row \u001b[0m│\u001b[1m Sex    \u001b[0m\u001b[1m Pclass \u001b[0m\u001b[1m Survived \u001b[0m\n",
       "\u001b[1m     \u001b[0m│\u001b[90m String \u001b[0m\u001b[90m Int64  \u001b[0m\u001b[90m Int64    \u001b[0m\n",
       "─────┼──────────────────────────\n",
       "   1 │ male         3         0\n",
       "   2 │ male         3         0\n",
       "   3 │ male         3         0\n",
       "   4 │ male         1         0\n",
       "   5 │ male         3         0\n",
       "   6 │ male         3         0\n",
       "   7 │ male         3         0\n",
       "   8 │ male         3         0\n",
       "   9 │ male         2         1\n",
       "  10 │ male         2         0\n",
       "  11 │ male         2         1\n",
       "  ⋮  │   ⋮       ⋮        ⋮\n",
       " 568 │ male         3         0\n",
       " 569 │ male         3         0\n",
       " 570 │ male         3         0\n",
       " 571 │ male         3         0\n",
       " 572 │ male         3         0\n",
       " 573 │ male         2         0\n",
       " 574 │ male         3         0\n",
       " 575 │ male         2         0\n",
       " 576 │ male         1         1\n",
       " 577 │ male         3         0\n",
       "\u001b[36m                556 rows omitted\u001b[0m"
      ]
     },
     "execution_count": 10,
     "metadata": {},
     "output_type": "execute_result"
    }
   ],
   "source": [
    "df_male = split_by_sex[\"male\"]"
   ]
  },
  {
   "cell_type": "code",
   "execution_count": 11,
   "id": "confidential-completion",
   "metadata": {},
   "outputs": [
    {
     "name": "stdout",
     "output_type": "stream",
     "text": [
      "column_to_split\n"
     ]
    }
   ],
   "source": [
    "column_to_split(df_male, \"Survived\")"
   ]
  },
  {
   "cell_type": "code",
   "execution_count": 12,
   "id": "ethical-pursuit",
   "metadata": {},
   "outputs": [
    {
     "name": "stdout",
     "output_type": "stream",
     "text": [
      "column_to_split\n"
     ]
    },
    {
     "data": {
      "text/plain": [
       "\"Pclass\""
      ]
     },
     "execution_count": 12,
     "metadata": {},
     "output_type": "execute_result"
    }
   ],
   "source": [
    "df_female = split_by_sex[\"female\"]\n",
    "column_to_split(df_female, \"Survived\")"
   ]
  },
  {
   "cell_type": "code",
   "execution_count": 17,
   "id": "missing-economy",
   "metadata": {},
   "outputs": [
    {
     "name": "stdout",
     "output_type": "stream",
     "text": [
      "column_to_split\n",
      "cannot be split\n"
     ]
    }
   ],
   "source": [
    "if column_to_split(df_male, \"Survived\") != nothing\n",
    "    println(\"can be split\")\n",
    "else\n",
    "    println(\"cannot be split\")\n",
    "end"
   ]
  },
  {
   "cell_type": "code",
   "execution_count": 65,
   "id": "union-texture",
   "metadata": {},
   "outputs": [
    {
     "data": {
      "text/plain": [
       "decision_tree (generic function with 1 method)"
      ]
     },
     "execution_count": 65,
     "metadata": {},
     "output_type": "execute_result"
    }
   ],
   "source": [
    "function decision_tree(data_frame, dependent_feature)\n",
    "    tree = Dict()\n",
    "    split_column = column_to_split(data_frame, dependent_feature)\n",
    "    \n",
    "    if split_column == nothing\n",
    "        return highest_vote(counter(data_frame[!, dependent_feature]))\n",
    "    end\n",
    "    \n",
    "    tree[split_column] = Dict()\n",
    "    for (key, val)  in split_by(data_frame, split_column)\n",
    "        filter_condition = data_frame[!, split_column] .== key\n",
    "        filtered_df = data_frame[filter_condition, :]\n",
    "        tree[split_column][key] = decision_tree(filtered_df, dependent_feature)\n",
    "    end\n",
    "    \n",
    "    return tree\n",
    "end"
   ]
  },
  {
   "cell_type": "code",
   "execution_count": 66,
   "id": "turned-scroll",
   "metadata": {},
   "outputs": [
    {
     "name": "stdout",
     "output_type": "stream",
     "text": [
      "column_to_split\n",
      "column_to_split\n",
      "column_to_split\n",
      "column_to_split\n",
      "column_to_split\n",
      "column_to_split\n"
     ]
    },
    {
     "data": {
      "text/plain": [
       "Dict{Any, Any} with 1 entry:\n",
       "  \"Sex\" => Dict{Any, Any}(\"male\"=>0, \"female\"=>Dict{Any, Any}(\"Pclass\"=>Dict{An…"
      ]
     },
     "execution_count": 66,
     "metadata": {},
     "output_type": "execute_result"
    }
   ],
   "source": [
    "dtree = decision_tree(df_min_cols, \"Survived\")"
   ]
  },
  {
   "cell_type": "code",
   "execution_count": 67,
   "id": "variable-society",
   "metadata": {},
   "outputs": [
    {
     "name": "stdout",
     "output_type": "stream",
     "text": [
      "Dict{Any, Any}(\"Sex\" => Dict{Any, Any}(\"male\" => 0, \"female\" => Dict{Any, Any}(\"Pclass\" => Dict{Any, Any}(2 => 1, 3 => 0, 1 => 1))))\n"
     ]
    }
   ],
   "source": [
    "println(dtree)"
   ]
  },
  {
   "cell_type": "code",
   "execution_count": 68,
   "id": "shared-dancing",
   "metadata": {},
   "outputs": [
    {
     "name": "stdout",
     "output_type": "stream",
     "text": [
      "column_to_split\n"
     ]
    },
    {
     "data": {
      "text/plain": [
       "0"
      ]
     },
     "execution_count": 68,
     "metadata": {},
     "output_type": "execute_result"
    }
   ],
   "source": [
    "decision_tree(df_male, \"Survived\")"
   ]
  },
  {
   "cell_type": "code",
   "execution_count": null,
   "id": "loved-scene",
   "metadata": {},
   "outputs": [],
   "source": []
  }
 ],
 "metadata": {
  "kernelspec": {
   "display_name": "Julia 1.6.1",
   "language": "julia",
   "name": "julia-1.6"
  },
  "language_info": {
   "file_extension": ".jl",
   "mimetype": "application/julia",
   "name": "julia",
   "version": "1.6.1"
  }
 },
 "nbformat": 4,
 "nbformat_minor": 5
}
